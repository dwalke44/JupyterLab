{
 "cells": [
  {
   "cell_type": "code",
   "execution_count": 2,
   "metadata": {},
   "outputs": [
    {
     "name": "stdout",
     "output_type": "stream",
     "text": [
      "66\n",
      "56\n"
     ]
    }
   ],
   "source": [
    "from classes.game_classes import Person, bcolors\n",
    "\n",
    "magic = [{\"name\": \"Fire\", \"cost\": 10, \"dmg\": 60},\n",
    "         {\"name\": \"Frost\", \"cost\": 15, \"dmg\": 75},\n",
    "         {\"name\": \"Sparks\", \"cost\": 8, \"dmg\": 45}]\n",
    "\n",
    "player = Person(460, 65, 60, 34, magic)\n",
    "\n",
    "print(player.generate_damage())\n",
    "\n",
    "print(player.generate_spell_damage(0))"
   ]
  },
  {
   "cell_type": "code",
   "execution_count": null,
   "metadata": {},
   "outputs": [],
   "source": []
  }
 ],
 "metadata": {
  "kernelspec": {
   "display_name": "Python 3",
   "language": "python",
   "name": "python3"
  },
  "language_info": {
   "codemirror_mode": {
    "name": "ipython",
    "version": 3
   },
   "file_extension": ".py",
   "mimetype": "text/x-python",
   "name": "python",
   "nbconvert_exporter": "python",
   "pygments_lexer": "ipython3",
   "version": "3.6.7"
  }
 },
 "nbformat": 4,
 "nbformat_minor": 2
}
