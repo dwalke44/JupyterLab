{
 "cells": [
  {
   "cell_type": "code",
   "execution_count": 2,
   "metadata": {},
   "outputs": [
    {
     "name": "stdout",
     "output_type": "stream",
     "text": [
      "\u001b[91m\u001b[1mAn enemy attacks!\u001b[0m\n",
      "====================\n",
      "Actions\n",
      "1: Attack\n",
      "2: Magic\n"
     ]
    },
    {
     "name": "stdin",
     "output_type": "stream",
     "text": [
      "Choose action: [Must be 1 or 2] 2\n"
     ]
    },
    {
     "name": "stdout",
     "output_type": "stream",
     "text": [
      "Magic\n",
      "1: Fire (cost: 10)\n",
      "2: Frost (cost: 15)\n",
      "3: Sparks (cost: 8)\n"
     ]
    },
    {
     "name": "stdin",
     "output_type": "stream",
     "text": [
      "Choose spell: [Must be 1-3] 2\n"
     ]
    },
    {
     "name": "stdout",
     "output_type": "stream",
     "text": [
      "\u001b[94m\n",
      "Frost deal 120 points of damage!\u001b[0m\n",
      "Enemy attacks for 48 pts of dmg.\n",
      "--------------------------------\n",
      "Enemy HP:  \u001b[91m1080/1200\u001b[0m\n",
      "\n",
      "Your HP:  \u001b[92m412/460\u001b[0m\n",
      "Your MP:  \u001b[94m50/65\u001b[0m\n",
      "\n",
      "====================\n",
      "Actions\n",
      "1: Attack\n",
      "2: Magic\n"
     ]
    },
    {
     "name": "stdin",
     "output_type": "stream",
     "text": [
      "Choose action: [Must be 1 or 2] 2\n"
     ]
    },
    {
     "name": "stdout",
     "output_type": "stream",
     "text": [
      "Magic\n",
      "1: Fire (cost: 10)\n",
      "2: Frost (cost: 15)\n",
      "3: Sparks (cost: 8)\n"
     ]
    },
    {
     "name": "stdin",
     "output_type": "stream",
     "text": [
      "Choose spell: [Must be 1-3] 2\n"
     ]
    },
    {
     "name": "stdout",
     "output_type": "stream",
     "text": [
      "\u001b[94m\n",
      "Frost deal 117 points of damage!\u001b[0m\n",
      "Enemy attacks for 36 pts of dmg.\n",
      "--------------------------------\n",
      "Enemy HP:  \u001b[91m963/1200\u001b[0m\n",
      "\n",
      "Your HP:  \u001b[92m376/460\u001b[0m\n",
      "Your MP:  \u001b[94m35/65\u001b[0m\n",
      "\n",
      "====================\n",
      "Actions\n",
      "1: Attack\n",
      "2: Magic\n"
     ]
    },
    {
     "name": "stdin",
     "output_type": "stream",
     "text": [
      "Choose action: [Must be 1 or 2] 2\n"
     ]
    },
    {
     "name": "stdout",
     "output_type": "stream",
     "text": [
      "Magic\n",
      "1: Fire (cost: 10)\n",
      "2: Frost (cost: 15)\n",
      "3: Sparks (cost: 8)\n"
     ]
    },
    {
     "name": "stdin",
     "output_type": "stream",
     "text": [
      "Choose spell: [Must be 1-3] 2\n"
     ]
    },
    {
     "name": "stdout",
     "output_type": "stream",
     "text": [
      "\u001b[94m\n",
      "Frost deal 121 points of damage!\u001b[0m\n",
      "Enemy attacks for 45 pts of dmg.\n",
      "--------------------------------\n",
      "Enemy HP:  \u001b[91m842/1200\u001b[0m\n",
      "\n",
      "Your HP:  \u001b[92m331/460\u001b[0m\n",
      "Your MP:  \u001b[94m20/65\u001b[0m\n",
      "\n",
      "====================\n",
      "Actions\n",
      "1: Attack\n",
      "2: Magic\n"
     ]
    },
    {
     "name": "stdin",
     "output_type": "stream",
     "text": [
      "Choose action: [Must be 1 or 2] 2\n"
     ]
    },
    {
     "name": "stdout",
     "output_type": "stream",
     "text": [
      "Magic\n",
      "1: Fire (cost: 10)\n",
      "2: Frost (cost: 15)\n",
      "3: Sparks (cost: 8)\n"
     ]
    },
    {
     "name": "stdin",
     "output_type": "stream",
     "text": [
      "Choose spell: [Must be 1-3] 2\n"
     ]
    },
    {
     "name": "stdout",
     "output_type": "stream",
     "text": [
      "\u001b[94m\n",
      "Frost deal 116 points of damage!\u001b[0m\n",
      "Enemy attacks for 49 pts of dmg.\n",
      "--------------------------------\n",
      "Enemy HP:  \u001b[91m726/1200\u001b[0m\n",
      "\n",
      "Your HP:  \u001b[92m282/460\u001b[0m\n",
      "Your MP:  \u001b[94m5/65\u001b[0m\n",
      "\n",
      "====================\n",
      "Actions\n",
      "1: Attack\n",
      "2: Magic\n"
     ]
    },
    {
     "name": "stdin",
     "output_type": "stream",
     "text": [
      "Choose action: [Must be 1 or 2] 1\n"
     ]
    },
    {
     "name": "stdout",
     "output_type": "stream",
     "text": [
      "You attacked for 60 pts of dmg\n",
      "Enemy attacks for 40 pts of dmg.\n",
      "--------------------------------\n",
      "Enemy HP:  \u001b[91m666/1200\u001b[0m\n",
      "\n",
      "Your HP:  \u001b[92m242/460\u001b[0m\n",
      "Your MP:  \u001b[94m5/65\u001b[0m\n",
      "\n",
      "====================\n",
      "Actions\n",
      "1: Attack\n",
      "2: Magic\n"
     ]
    },
    {
     "name": "stdin",
     "output_type": "stream",
     "text": [
      "Choose action: [Must be 1 or 2] 1\n"
     ]
    },
    {
     "name": "stdout",
     "output_type": "stream",
     "text": [
      "You attacked for 62 pts of dmg\n",
      "Enemy attacks for 36 pts of dmg.\n",
      "--------------------------------\n",
      "Enemy HP:  \u001b[91m604/1200\u001b[0m\n",
      "\n",
      "Your HP:  \u001b[92m206/460\u001b[0m\n",
      "Your MP:  \u001b[94m5/65\u001b[0m\n",
      "\n",
      "====================\n",
      "Actions\n",
      "1: Attack\n",
      "2: Magic\n"
     ]
    },
    {
     "name": "stdin",
     "output_type": "stream",
     "text": [
      "Choose action: [Must be 1 or 2] 1\n"
     ]
    },
    {
     "name": "stdout",
     "output_type": "stream",
     "text": [
      "You attacked for 67 pts of dmg\n",
      "Enemy attacks for 50 pts of dmg.\n",
      "--------------------------------\n",
      "Enemy HP:  \u001b[91m537/1200\u001b[0m\n",
      "\n",
      "Your HP:  \u001b[92m156/460\u001b[0m\n",
      "Your MP:  \u001b[94m5/65\u001b[0m\n",
      "\n",
      "====================\n",
      "Actions\n",
      "1: Attack\n",
      "2: Magic\n"
     ]
    },
    {
     "name": "stdin",
     "output_type": "stream",
     "text": [
      "Choose action: [Must be 1 or 2] 1\n"
     ]
    },
    {
     "name": "stdout",
     "output_type": "stream",
     "text": [
      "You attacked for 66 pts of dmg\n",
      "Enemy attacks for 53 pts of dmg.\n",
      "--------------------------------\n",
      "Enemy HP:  \u001b[91m471/1200\u001b[0m\n",
      "\n",
      "Your HP:  \u001b[92m103/460\u001b[0m\n",
      "Your MP:  \u001b[94m5/65\u001b[0m\n",
      "\n",
      "====================\n",
      "Actions\n",
      "1: Attack\n",
      "2: Magic\n"
     ]
    },
    {
     "name": "stdin",
     "output_type": "stream",
     "text": [
      "Choose action: [Must be 1 or 2] 1\n"
     ]
    },
    {
     "name": "stdout",
     "output_type": "stream",
     "text": [
      "You attacked for 60 pts of dmg\n",
      "Enemy attacks for 45 pts of dmg.\n",
      "--------------------------------\n",
      "Enemy HP:  \u001b[91m411/1200\u001b[0m\n",
      "\n",
      "Your HP:  \u001b[92m58/460\u001b[0m\n",
      "Your MP:  \u001b[94m5/65\u001b[0m\n",
      "\n",
      "====================\n",
      "Actions\n",
      "1: Attack\n",
      "2: Magic\n"
     ]
    },
    {
     "name": "stdin",
     "output_type": "stream",
     "text": [
      "Choose action: [Must be 1 or 2] 1\n"
     ]
    },
    {
     "name": "stdout",
     "output_type": "stream",
     "text": [
      "You attacked for 64 pts of dmg\n",
      "Enemy attacks for 48 pts of dmg.\n",
      "--------------------------------\n",
      "Enemy HP:  \u001b[91m347/1200\u001b[0m\n",
      "\n",
      "Your HP:  \u001b[92m10/460\u001b[0m\n",
      "Your MP:  \u001b[94m5/65\u001b[0m\n",
      "\n",
      "====================\n",
      "Actions\n",
      "1: Attack\n",
      "2: Magic\n"
     ]
    },
    {
     "name": "stdin",
     "output_type": "stream",
     "text": [
      "Choose action: [Must be 1 or 2] 1\n"
     ]
    },
    {
     "name": "stdout",
     "output_type": "stream",
     "text": [
      "You attacked for 55 pts of dmg\n",
      "Enemy attacks for 44 pts of dmg.\n",
      "--------------------------------\n",
      "Enemy HP:  \u001b[91m292/1200\u001b[0m\n",
      "\n",
      "Your HP:  \u001b[92m0/460\u001b[0m\n",
      "Your MP:  \u001b[94m5/65\u001b[0m\n",
      "\n",
      "\u001b[91mYou have fainted! You have been defeated.\u001b[0m\n"
     ]
    }
   ],
   "source": [
    "from classes.game_classes import Person, bcolors\n",
    "from classes.magic import Spell\n",
    "\n",
    "#init Destruction spells\n",
    "fire = Spell(\"Fire\", 10, 100, \"destruction\")\n",
    "frost = Spell(\"Frost\", 15, 120, \"destruction\")\n",
    "sparks = Spell(\"Sparks\", 8, 100, \"destruction\")\n",
    "meteor = Spell(\"MeteorShower\", 20, 240, \"destruction\")\n",
    "\n",
    "#init Restoration spells\n",
    "cure = Spell(\"Healing\", 12, -120, \"restoration\")\n",
    "cura = Spell(\"Cura\", 18, 200, \"restoration\")\n",
    "\n",
    "player = Person(460, 65, 60, 34, magic)\n",
    "player_magic = \n",
    "#TEST WHETHER CLASSES ARE BEING READ\n",
    "#print(player.generate_damage())\n",
    "#print(player.generate_spell_damage(0))\n",
    "#print(player.generate_spell_damage(1))\n",
    "\n",
    "enemy = Person(1200, 65, 45, 25, magic)\n",
    "\n",
    "running = True\n",
    "\n",
    "print(bcolors.FAIL + bcolors.BOLD + \"An enemy attacks!\" + bcolors.ENDC)\n",
    "\n",
    "while running:\n",
    "    print(\"====================\")\n",
    "    \n",
    "    player.choose_action()\n",
    "    choice = input(\"Choose action: [Must be 1 or 2]\")\n",
    "    index = int(choice) - 1\n",
    "    \n",
    "    #Player choses attack or magic\n",
    "    if index == 0:\n",
    "        dmg = player.generate_damage()\n",
    "        enemy.take_damage(dmg)\n",
    "        print(\"You attacked for\", dmg, \"pts of dmg\")\n",
    "    elif index == 1:\n",
    "        player.choose_magic()\n",
    "        magic_choice = int(input(\"Choose spell: [Must be 1-3]\")) - 1\n",
    "        magic_dmg = player.generate_spell_damage(magic_choice)\n",
    "        \n",
    "        spell = player.get_spell_name(magic_choice)\n",
    "        cost = player.get_spell_mp_cost(magic_choice)\n",
    "        current_mp = player.get_mp()\n",
    "        \n",
    "        if cost > current_mp:\n",
    "            print(bcolors.FAIL + \"\\nNot enough MP\\n\" + bcolors.ENDC)\n",
    "            continue\n",
    "            \n",
    "        player.reduce_mp(cost)\n",
    "        enemy.take_damage(magic_dmg)\n",
    "        print(bcolors.OKBLUE + \"\\n\" + spell + \" deal\", str(magic_dmg), \"points of damage!\" + bcolors.ENDC)\n",
    "    \n",
    "    \n",
    "    #Enemy's turn\n",
    "    enemy_choice = 1\n",
    "    enemy_dmg = enemy.generate_damage()\n",
    "    player.take_damage(enemy_dmg)\n",
    "    print(\"Enemy attacks for\", enemy_dmg, \"pts of dmg.\")\n",
    "    \n",
    "    #Summarise result of turn\n",
    "    print(\"--------------------------------\")\n",
    "    print(\"Enemy HP: \", bcolors.FAIL + str(enemy.get_hp()) + \"/\" + str(enemy.get_max_hp()) + bcolors.ENDC + \"\\n\")\n",
    "    print(\"Your HP: \", bcolors.OKGREEN + str(player.get_hp()) + \"/\" + str(player.get_max_hp()) + bcolors.ENDC)\n",
    "    print(\"Your MP: \", bcolors.OKBLUE + str(player.get_mp()) + \"/\" + str(player.get_max_mp()) + bcolors.ENDC + \"\\n\")\n",
    "              \n",
    "    #check both HPs, break if one lost \n",
    "    if enemy.get_hp() == 0:\n",
    "        print(bcolors.OKGREEN + \"You have won!\" + bcolors.ENDC)\n",
    "        running = False\n",
    "    elif player.get_hp() == 0:\n",
    "        print(bcolors.FAIL + \"You have fainted! You have been defeated.\" + bcolors.ENDC)\n",
    "        running = False\n",
    "    "
   ]
  },
  {
   "cell_type": "code",
   "execution_count": 1,
   "metadata": {},
   "outputs": [],
   "source": []
  }
 ],
 "metadata": {
  "kernelspec": {
   "display_name": "Python 3",
   "language": "python",
   "name": "python3"
  },
  "language_info": {
   "codemirror_mode": {
    "name": "ipython",
    "version": 3
   },
   "file_extension": ".py",
   "mimetype": "text/x-python",
   "name": "python",
   "nbconvert_exporter": "python",
   "pygments_lexer": "ipython3",
   "version": "3.6.7"
  }
 },
 "nbformat": 4,
 "nbformat_minor": 2
}
