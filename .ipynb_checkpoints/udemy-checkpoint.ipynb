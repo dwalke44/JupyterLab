{
 "cells": [
  {
   "cell_type": "code",
   "execution_count": 14,
   "metadata": {},
   "outputs": [
    {
     "name": "stdout",
     "output_type": "stream",
     "text": [
      "Hello  D  and your age is  Unknown\n",
      "Hello  Someone  and your age is  21\n",
      "This person is  1\n",
      "This person is  2\n",
      "This person is  3\n"
     ]
    },
    {
     "data": {
      "text/plain": [
       "7"
      ]
     },
     "execution_count": 14,
     "metadata": {},
     "output_type": "execute_result"
    }
   ],
   "source": [
    "#Functions sub-section\n",
    "#add default arguments\n",
    "def my_function(input1 = \"Someone\", age = \"Unknown\"):\n",
    "    #4 spaces in = included in function\n",
    "    print(\"Hello \", input1, \" and your age is \", age)\n",
    "my_function(\"D\")    \n",
    "\n",
    "#keyword argument\n",
    "my_function(age= 21)\n",
    "\n",
    "#undetermined number of arguments\n",
    "def print_people(*people):\n",
    "    for person in people:\n",
    "        print(\"This person is \", person)\n",
    "print_people(\"1\", \"2\", \"3\")        \n",
    "\n",
    "#return values\n",
    "def do_math(num1, num2):\n",
    "    return(num1 + num2)\n",
    "\n",
    "math1 = do_math(2,5)\n",
    "math1"
   ]
  },
  {
   "cell_type": "code",
   "execution_count": 1,
   "metadata": {},
   "outputs": [
    {
     "name": "stdout",
     "output_type": "stream",
     "text": [
      "It is false\n",
      "Hello\n",
      "1\n",
      "2\n",
      "3\n",
      "4\n",
      "5\n",
      "6\n",
      "7\n",
      "8\n",
      "9\n"
     ]
    }
   ],
   "source": [
    "#if, else, elif\n",
    "\n",
    "\n",
    "check = False\n",
    "\n",
    "if check == False:\n",
    "    print(\"It is false\")\n",
    "else:\n",
    "    print(\"It is actually true\")\n",
    "    \n",
    "check = \"Yo\"\n",
    "\n",
    "if check == False:\n",
    "    print(\"It is false\")\n",
    "elif check == \"Yo\":\n",
    "    print(\"Hello\")\n",
    "else:\n",
    "    print(\"It is actually true\")\n",
    "\n",
    "    \n",
    "#while loop\n",
    "#prints 1-99\n",
    "run = True\n",
    "current = 1 \n",
    "\n",
    "while run:\n",
    "    if current == 10:\n",
    "        run = False\n",
    "        \n",
    "    else:\n",
    "        print(current)\n",
    "        current += 1\n"
   ]
  },
  {
   "cell_type": "code",
   "execution_count": 30,
   "metadata": {},
   "outputs": [
    {
     "name": "stdout",
     "output_type": "stream",
     "text": [
      "here is text here. his statement is false.\n",
      "There...is...text...here......This...statement...is...false...\n"
     ]
    }
   ],
   "source": [
    "#using libraries and regex\n",
    "\n",
    "\n",
    "import re\n",
    "\n",
    "\n",
    "string = \"There is text here. This statement is false.\"\n",
    "#remove capitals\n",
    "new = re.sub('[A-Z]', '', string)\n",
    "print(new)\n",
    "\n",
    "new = re.sub('[.,\\'+\" \"]', '...', string)\n",
    "print(new)\n",
    "\n",
    "\n"
   ]
  },
  {
   "cell_type": "code",
   "execution_count": 4,
   "metadata": {},
   "outputs": [
    {
     "name": "stdout",
     "output_type": "stream",
     "text": [
      "Calculator\n",
      "Type 'quit' to exit \n",
      "\n"
     ]
    },
    {
     "name": "stdin",
     "output_type": "stream",
     "text": [
      "Enter equation:  quit\n"
     ]
    },
    {
     "name": "stdout",
     "output_type": "stream",
     "text": [
      "Exit complete.\n"
     ]
    }
   ],
   "source": [
    "#build a calculator\n",
    "import re\n",
    "\n",
    "print(\"Calculator\")\n",
    "print(\"Type 'quit' to exit \\n\")\n",
    "\n",
    "previous = 0\n",
    "run = True\n",
    "\n",
    "#functions\n",
    "def perform_math():\n",
    "    \n",
    "    global run #allows function to alter control variable\n",
    "    global previous\n",
    "    \n",
    "    equation = \"\"\n",
    "    \n",
    "    if previous == 0:\n",
    "        equation = input(\"Enter equation: \")\n",
    "    else:\n",
    "        equation = input(str(previous))\n",
    "        \n",
    "    if equation == 'quit':\n",
    "        print(\"Exit complete.\")\n",
    "        run = False\n",
    "    else:\n",
    "        print(\"You entered: \", equation)\n",
    "        #previous = eval(equation) #eval will run python code if entered, so it should be avoided\n",
    "        \n",
    "        #perform regex to ensure only numbers and symbols input\n",
    "        equation = re.sub('[a-zA-Z, .()\" \"]', '', equation)\n",
    "        \n",
    "        if previous == 0:\n",
    "            previous = eval(equation)\n",
    "        else:\n",
    "            previous = eval(str(previous) + equation)\n",
    "                \n",
    "        print(\"The answer is \", previous)\n",
    "\n",
    "while run:\n",
    "    perform_math()\n"
   ]
  },
  {
   "cell_type": "code",
   "execution_count": 12,
   "metadata": {},
   "outputs": [
    {
     "name": "stdout",
     "output_type": "stream",
     "text": [
      "Enemy strikes for  63 points of damage. Current HP is  197\n",
      "Enemy strikes for  63 points of damage. Current HP is  134\n",
      "Enemy strikes for  78 points of damage. Current HP is  56\n",
      "Enemy strikes for  68 points of damage. Current HP is  0\n",
      "Player has fainted! Restoring from last check point.\n"
     ]
    }
   ],
   "source": [
    "#break out of while loop\n",
    "import random as rd\n",
    "\n",
    "playerhp = 260\n",
    "enemyattkl = 60\n",
    "enemyattkh = 80\n",
    "\n",
    "while playerhp > 0:\n",
    "    dmg = rd.randrange(enemyattkl, enemyattkh)\n",
    "    playerhp = playerhp - dmg\n",
    "    \n",
    "    if playerhp <= 0:\n",
    "        playerhp = 0\n",
    "    print(\"Enemy strikes for \", dmg, \"points of damage. Current HP is \", playerhp)\n",
    "    \n",
    "    if playerhp <= 0:\n",
    "        print(\"Player has fainted! Restoring from last check point.\")\n",
    "        break\n"
   ]
  },
  {
   "cell_type": "code",
   "execution_count": null,
   "metadata": {},
   "outputs": [],
   "source": []
  }
 ],
 "metadata": {
  "kernelspec": {
   "display_name": "Python 3",
   "language": "python",
   "name": "python3"
  },
  "language_info": {
   "codemirror_mode": {
    "name": "ipython",
    "version": 3
   },
   "file_extension": ".py",
   "mimetype": "text/x-python",
   "name": "python",
   "nbconvert_exporter": "python",
   "pygments_lexer": "ipython3",
   "version": "3.6.7"
  }
 },
 "nbformat": 4,
 "nbformat_minor": 2
}
