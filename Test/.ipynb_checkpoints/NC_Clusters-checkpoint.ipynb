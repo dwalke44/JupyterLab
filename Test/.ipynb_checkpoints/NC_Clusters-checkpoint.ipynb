{
 "cells": [
  {
   "cell_type": "code",
   "execution_count": 1,
   "metadata": {},
   "outputs": [],
   "source": [
    "import numpy as np\n",
    "import pandas as pd\n",
    "import sklearn\n",
    "import matplotlib.pyplot as plt\n",
    "import cx_Oracle"
   ]
  },
  {
   "cell_type": "markdown",
   "metadata": {},
   "source": [
    "Establish database connection"
   ]
  },
  {
   "cell_type": "code",
   "execution_count": 8,
   "metadata": {},
   "outputs": [
    {
     "name": "stdout",
     "output_type": "stream",
     "text": [
      "Connecting to Oracle\n"
     ]
    },
    {
     "data": {
      "text/plain": [
       "<cx_Oracle.Cursor on <cx_Oracle.Connection to danwal1@BA_EDW>>"
      ]
     },
     "execution_count": 8,
     "metadata": {},
     "output_type": "execute_result"
    }
   ],
   "source": [
    "#con = cx_Oracle.connect('pythonhol/welcome@127.0.0.1/orcl') <- Example from Oracle Website\n",
    "def openOracle() :\n",
    "    '''\n",
    "    Open connection to Oracle database\n",
    "    '''\n",
    "    try:\n",
    "        print('Connecting to Oracle')\n",
    "        return cx_Oracle.connect('danwal1/DANWAL1$@BA_EDW')\n",
    "    except:\n",
    "        e = sys.exc_info()\n",
    "        logMessage(\"Error\", +str(e))\n",
    "        print('Error connecting to Oracle')\n",
    "        return 0\n",
    "    \n",
    "    \n",
    "odb = openOracle()\n",
    "\n",
    "\n",
    "\n",
    "ocur"
   ]
  },
  {
   "cell_type": "markdown",
   "metadata": {},
   "source": [
    "Fetch data and convert to pandas dataframe."
   ]
  },
  {
   "cell_type": "code",
   "execution_count": null,
   "metadata": {},
   "outputs": [],
   "source": [
    "ocur = odb.cursor()\n",
    "\n",
    "ocur.execute(\"select t.* from DANWAL1.TEST_NCCLUSTERS_TRAIN1 t order by 2,1\")\n",
    "\n",
    "res = ocur.fetchall()\n",
    "print(len(res)) #all 29,196 rows received\n",
    "\n",
    "df = pd.DataFrame(res)\n",
    "print(len(df))\n",
    "odb.close()\n",
    "\n",
    "df.head()\n",
    "\n",
    "#copy-paste colnames from sql query with 'Copy Header'\n",
    "colNames = [\"CUSTOMER_ID\", \"WEEK_ENDING\", \"RETURN_ORDER_FLAG\", \"CUST_CLASS_CHNNL_PHONE_FLAG\", \"CUST_CLASS_CHNNL_WEBSITE_FLAG\", \"BCAST_INFLUENCED_CUST\", \n",
    "            \"ANYTIME_CUST\", \"NUM_ORDERS\", \"GROSS_PRODUCT_SALES\", \"PRODUCT_QTY\", \"EXTENDED_PRODUCT_RETAIL_PRICE\", \"EXTENDED_PRODUCT_DISCOUNT\", \"EXTENDED_PRODUCT_COST\", \n",
    "            \"EXTENDED_SHIPPING_PRICE\", \"EXTENDED_SHIPPING_DISCOUNT\", \"PRODUCT_GROSS_MARGIN\", \"IMU\", \"PRODUCT_DISCOUNT_RATE\", \"PRODUCT_UNIT_PP\", \"SHIPPING_DISCOUNT_RATE\",\n",
    "            \"PA_CUST\", \"NUM_DEPTS\", \"BELLA_CUST\", \"BELLA_DESIGNER_CUST\", \"COSTUME_CUST\", \"COLOR_GOLD_CUST\", \"GOLD_CUST\", \"PEARLS_CUST\", \"SILVER_CUST\", \n",
    "            \"COLOR_SILVER_CUST\", \"COLOR_SILVER_BRANDS_CUST\", \"DIAMOND_GOLD_CUST\", \"DIAMOND_SILVER_CUST\", \"DIAMOND_SYNTH_CUST\", \"OTHER_DEPT_CUST\",\n",
    "            \"BELLA_PROD_SALES\", \"BELLA_DESIGNER_PROD_SALES\", \"COSTUME_PROD_SALES\", \"COLOR_GOLD_PROD_SALES\", \"GOLD_PROD_SALES\", \"PEARLS_PROD_SALES\", \n",
    "            \"SILVER_PROD_SALES\", \"COLOR_SILVER_PROD_SALES\", \"COLOR_SILVER_BRANDS_PROD_SALES\", \"DIAMOND_GOLD_PROD_SALES\", \"DIAMOND_SILVER_PROD_SALES\",\n",
    "            \"DIAMOND_SYNTH_PROD_SALES\", \"OTHER_DEPT_PROD_SALES\", \"BELLA_PROD_DISC\", \"BELLA_DESIGNER_PROD_DISC\", \"COSTUME_PROD_DISC\", \"COLOR_GOLD_PROD_DISC\", \n",
    "            \"GOLD_PROD_DISC\", \"PEARLS_PROD_DISC\", \"SILVER_PROD_DISC\", \"COLOR_SILVER_PROD_DISC\", \"COLOR_SILVER_BRANDS_PROD_DISC\", \"DIAMOND_GOLD_PROD_DISC\", \n",
    "            \"DIAMOND_SILVER_PROD_DISC\", \"DIAMOND_SYNTH_PROD_DISC\", \"OTHER_DEPT_PROD_DISC\", \"BELLA_PROD_QTY\", \"BELLA_DESIGNER_PROD_QTY\", \"COSTUME_PROD_QTY\",\n",
    "            \"COLOR_GOLD_PROD_QTY\", \"GOLD_PROD_QTY\", \"PEARLS_PROD_QTY\", \"SILVER_PROD_QTY\", \"COLOR_SILVER_PROD_QTY\", \"COLOR_SILVER_BRANDS_PROD_QTY\", \n",
    "            \"DIAMOND_GOLD_PROD_QTY\", \"DIAMOND_SILVER_PROD_QTY\", \"DIAMOND_SYNTH_PROD_QTY\", \"OTHER_DEPT_PROD_QTY\", \"PROB_ALIVE\", \"GROSS_MARGIN_AVERAGE_ORDER_DT\", \n",
    "            \"EXP_TRANS_1YR_LTV\", \"EXP_TRANS_3YR_LTV\", \"EXP_TRANS_5YR_LTV\", \"PROB_ALIVE_1YR\", \"GROSS_MARGIN_AVERAGE_ORDER_DT_1YR\", \"EXP_TRANS_1YR_LTV_1YR\", \n",
    "            \"EXP_TRANS_3YR_LTV_1YR\", \"EXP_TRANS_5YR_LTV_1YR\"]\n",
    "\n",
    "\n",
    "#add colnames to df\n",
    "\n",
    "df.set_axis([colNames], axis='columns', inplace=False)"
   ]
  }
 ],
 "metadata": {
  "kernelspec": {
   "display_name": "Python 3",
   "language": "python",
   "name": "python3"
  },
  "language_info": {
   "codemirror_mode": {
    "name": "ipython",
    "version": 3
   },
   "file_extension": ".py",
   "mimetype": "text/x-python",
   "name": "python",
   "nbconvert_exporter": "python",
   "pygments_lexer": "ipython3",
   "version": "3.6.7"
  }
 },
 "nbformat": 4,
 "nbformat_minor": 2
}
